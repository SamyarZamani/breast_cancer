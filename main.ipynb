{
  "cells": [
    {
      "cell_type": "markdown",
      "source": [
        "# **breast_cancer project for resume**"
      ],
      "metadata": {
        "id": "2ibAYAnkqFHJ"
      }
    },
    {
      "cell_type": "code",
      "source": [
        "# importing dataset\n",
        "from sklearn.datasets import load_breast_cancer\n",
        "bc = load_breast_cancer()"
      ],
      "metadata": {
        "id": "0Q2Eb2laqEyZ"
      },
      "execution_count": 18,
      "outputs": []
    },
    {
      "cell_type": "markdown",
      "source": [
        "## data info"
      ],
      "metadata": {
        "id": "QKZi-Fa4v4jL"
      }
    },
    {
      "cell_type": "code",
      "source": [
        "# some information about dataset like max and min of each feature\n",
        "print(bc.DESCR)"
      ],
      "metadata": {
        "collapsed": true,
        "colab": {
          "base_uri": "https://localhost:8080/"
        },
        "id": "nTVbWXpEuTQe",
        "outputId": "cc3bcb1f-4daf-49a0-a3e1-5b9df1b6ec74"
      },
      "execution_count": 19,
      "outputs": [
        {
          "output_type": "stream",
          "name": "stdout",
          "text": [
            ".. _breast_cancer_dataset:\n",
            "\n",
            "Breast cancer wisconsin (diagnostic) dataset\n",
            "--------------------------------------------\n",
            "\n",
            "**Data Set Characteristics:**\n",
            "\n",
            ":Number of Instances: 569\n",
            "\n",
            ":Number of Attributes: 30 numeric, predictive attributes and the class\n",
            "\n",
            ":Attribute Information:\n",
            "    - radius (mean of distances from center to points on the perimeter)\n",
            "    - texture (standard deviation of gray-scale values)\n",
            "    - perimeter\n",
            "    - area\n",
            "    - smoothness (local variation in radius lengths)\n",
            "    - compactness (perimeter^2 / area - 1.0)\n",
            "    - concavity (severity of concave portions of the contour)\n",
            "    - concave points (number of concave portions of the contour)\n",
            "    - symmetry\n",
            "    - fractal dimension (\"coastline approximation\" - 1)\n",
            "\n",
            "    The mean, standard error, and \"worst\" or largest (mean of the three\n",
            "    worst/largest values) of these features were computed for each image,\n",
            "    resulting in 30 features.  For instance, field 0 is Mean Radius, field\n",
            "    10 is Radius SE, field 20 is Worst Radius.\n",
            "\n",
            "    - class:\n",
            "            - WDBC-Malignant\n",
            "            - WDBC-Benign\n",
            "\n",
            ":Summary Statistics:\n",
            "\n",
            "===================================== ====== ======\n",
            "                                        Min    Max\n",
            "===================================== ====== ======\n",
            "radius (mean):                        6.981  28.11\n",
            "texture (mean):                       9.71   39.28\n",
            "perimeter (mean):                     43.79  188.5\n",
            "area (mean):                          143.5  2501.0\n",
            "smoothness (mean):                    0.053  0.163\n",
            "compactness (mean):                   0.019  0.345\n",
            "concavity (mean):                     0.0    0.427\n",
            "concave points (mean):                0.0    0.201\n",
            "symmetry (mean):                      0.106  0.304\n",
            "fractal dimension (mean):             0.05   0.097\n",
            "radius (standard error):              0.112  2.873\n",
            "texture (standard error):             0.36   4.885\n",
            "perimeter (standard error):           0.757  21.98\n",
            "area (standard error):                6.802  542.2\n",
            "smoothness (standard error):          0.002  0.031\n",
            "compactness (standard error):         0.002  0.135\n",
            "concavity (standard error):           0.0    0.396\n",
            "concave points (standard error):      0.0    0.053\n",
            "symmetry (standard error):            0.008  0.079\n",
            "fractal dimension (standard error):   0.001  0.03\n",
            "radius (worst):                       7.93   36.04\n",
            "texture (worst):                      12.02  49.54\n",
            "perimeter (worst):                    50.41  251.2\n",
            "area (worst):                         185.2  4254.0\n",
            "smoothness (worst):                   0.071  0.223\n",
            "compactness (worst):                  0.027  1.058\n",
            "concavity (worst):                    0.0    1.252\n",
            "concave points (worst):               0.0    0.291\n",
            "symmetry (worst):                     0.156  0.664\n",
            "fractal dimension (worst):            0.055  0.208\n",
            "===================================== ====== ======\n",
            "\n",
            ":Missing Attribute Values: None\n",
            "\n",
            ":Class Distribution: 212 - Malignant, 357 - Benign\n",
            "\n",
            ":Creator:  Dr. William H. Wolberg, W. Nick Street, Olvi L. Mangasarian\n",
            "\n",
            ":Donor: Nick Street\n",
            "\n",
            ":Date: November, 1995\n",
            "\n",
            "This is a copy of UCI ML Breast Cancer Wisconsin (Diagnostic) datasets.\n",
            "https://goo.gl/U2Uwz2\n",
            "\n",
            "Features are computed from a digitized image of a fine needle\n",
            "aspirate (FNA) of a breast mass.  They describe\n",
            "characteristics of the cell nuclei present in the image.\n",
            "\n",
            "Separating plane described above was obtained using\n",
            "Multisurface Method-Tree (MSM-T) [K. P. Bennett, \"Decision Tree\n",
            "Construction Via Linear Programming.\" Proceedings of the 4th\n",
            "Midwest Artificial Intelligence and Cognitive Science Society,\n",
            "pp. 97-101, 1992], a classification method which uses linear\n",
            "programming to construct a decision tree.  Relevant features\n",
            "were selected using an exhaustive search in the space of 1-4\n",
            "features and 1-3 separating planes.\n",
            "\n",
            "The actual linear program used to obtain the separating plane\n",
            "in the 3-dimensional space is that described in:\n",
            "[K. P. Bennett and O. L. Mangasarian: \"Robust Linear\n",
            "Programming Discrimination of Two Linearly Inseparable Sets\",\n",
            "Optimization Methods and Software 1, 1992, 23-34].\n",
            "\n",
            "This database is also available through the UW CS ftp server:\n",
            "\n",
            "ftp ftp.cs.wisc.edu\n",
            "cd math-prog/cpo-dataset/machine-learn/WDBC/\n",
            "\n",
            ".. dropdown:: References\n",
            "\n",
            "  - W.N. Street, W.H. Wolberg and O.L. Mangasarian. Nuclear feature extraction\n",
            "    for breast tumor diagnosis. IS&T/SPIE 1993 International Symposium on\n",
            "    Electronic Imaging: Science and Technology, volume 1905, pages 861-870,\n",
            "    San Jose, CA, 1993.\n",
            "  - O.L. Mangasarian, W.N. Street and W.H. Wolberg. Breast cancer diagnosis and\n",
            "    prognosis via linear programming. Operations Research, 43(4), pages 570-577,\n",
            "    July-August 1995.\n",
            "  - W.H. Wolberg, W.N. Street, and O.L. Mangasarian. Machine learning techniques\n",
            "    to diagnose breast cancer from fine-needle aspirates. Cancer Letters 77 (1994)\n",
            "    163-171.\n",
            "\n"
          ]
        }
      ]
    },
    {
      "cell_type": "code",
      "source": [
        "# some information about dataset\n",
        "print(bc.target.shape)\n",
        "print(bc.data.shape)\n",
        "print(bc.target[0])\n",
        "print(bc.data[0])"
      ],
      "metadata": {
        "colab": {
          "base_uri": "https://localhost:8080/"
        },
        "id": "aX047Lf-vSS8",
        "outputId": "4f3466d1-11f7-4148-b6f3-e0624eb204d5"
      },
      "execution_count": 20,
      "outputs": [
        {
          "output_type": "stream",
          "name": "stdout",
          "text": [
            "(569,)\n",
            "(569, 30)\n",
            "0\n",
            "[1.799e+01 1.038e+01 1.228e+02 1.001e+03 1.184e-01 2.776e-01 3.001e-01\n",
            " 1.471e-01 2.419e-01 7.871e-02 1.095e+00 9.053e-01 8.589e+00 1.534e+02\n",
            " 6.399e-03 4.904e-02 5.373e-02 1.587e-02 3.003e-02 6.193e-03 2.538e+01\n",
            " 1.733e+01 1.846e+02 2.019e+03 1.622e-01 6.656e-01 7.119e-01 2.654e-01\n",
            " 4.601e-01 1.189e-01]\n"
          ]
        }
      ]
    },
    {
      "cell_type": "code",
      "source": [
        "# view features and targets\n",
        "print(bc.feature_names)\n",
        "print(bc.target_names)"
      ],
      "metadata": {
        "id": "Jaznur6tw8lp",
        "outputId": "bbfa4f21-9de3-4474-d264-eb5ec40704cf",
        "colab": {
          "base_uri": "https://localhost:8080/"
        }
      },
      "execution_count": 21,
      "outputs": [
        {
          "output_type": "stream",
          "name": "stdout",
          "text": [
            "['mean radius' 'mean texture' 'mean perimeter' 'mean area'\n",
            " 'mean smoothness' 'mean compactness' 'mean concavity'\n",
            " 'mean concave points' 'mean symmetry' 'mean fractal dimension'\n",
            " 'radius error' 'texture error' 'perimeter error' 'area error'\n",
            " 'smoothness error' 'compactness error' 'concavity error'\n",
            " 'concave points error' 'symmetry error' 'fractal dimension error'\n",
            " 'worst radius' 'worst texture' 'worst perimeter' 'worst area'\n",
            " 'worst smoothness' 'worst compactness' 'worst concavity'\n",
            " 'worst concave points' 'worst symmetry' 'worst fractal dimension']\n",
            "['malignant' 'benign']\n"
          ]
        }
      ]
    },
    {
      "cell_type": "markdown",
      "source": [
        "## preprocessing"
      ],
      "metadata": {
        "id": "rHRkWqiAxKcn"
      }
    },
    {
      "cell_type": "code",
      "source": [
        "# making x and y to use in teaching model\n",
        "x = bc.data\n",
        "y = bc.target\n",
        "\n",
        "import numpy as np\n",
        "x = np.array(x)\n",
        "y = np.array(y)"
      ],
      "metadata": {
        "id": "o1WTjtk4xc6f"
      },
      "execution_count": 25,
      "outputs": []
    },
    {
      "cell_type": "code",
      "source": [
        "# x befor StandardScaler\n",
        "print(x[0])"
      ],
      "metadata": {
        "id": "Akj71j9N56OQ",
        "outputId": "3e9de3ed-10ae-4a6d-e7fb-afe387679060",
        "colab": {
          "base_uri": "https://localhost:8080/"
        }
      },
      "execution_count": 26,
      "outputs": [
        {
          "output_type": "stream",
          "name": "stdout",
          "text": [
            "[1.799e+01 1.038e+01 1.228e+02 1.001e+03 1.184e-01 2.776e-01 3.001e-01\n",
            " 1.471e-01 2.419e-01 7.871e-02 1.095e+00 9.053e-01 8.589e+00 1.534e+02\n",
            " 6.399e-03 4.904e-02 5.373e-02 1.587e-02 3.003e-02 6.193e-03 2.538e+01\n",
            " 1.733e+01 1.846e+02 2.019e+03 1.622e-01 6.656e-01 7.119e-01 2.654e-01\n",
            " 4.601e-01 1.189e-01]\n"
          ]
        }
      ]
    },
    {
      "cell_type": "code",
      "source": [
        "# normazilationing x\n",
        "from sklearn.preprocessing import StandardScaler\n",
        "sc = StandardScaler()\n",
        "x = sc.fit_transform(x)"
      ],
      "metadata": {
        "id": "3slR_jJQ25qv"
      },
      "execution_count": 27,
      "outputs": []
    },
    {
      "cell_type": "code",
      "source": [
        "# x after StandardScaler\n",
        "print(x[0])"
      ],
      "metadata": {
        "id": "qiQwwpFo5_kf",
        "outputId": "7837f617-3518-4358-c0ac-fcfb2d771ba0",
        "colab": {
          "base_uri": "https://localhost:8080/"
        }
      },
      "execution_count": 28,
      "outputs": [
        {
          "output_type": "stream",
          "name": "stdout",
          "text": [
            "[ 1.09706398 -2.07333501  1.26993369  0.9843749   1.56846633  3.28351467\n",
            "  2.65287398  2.53247522  2.21751501  2.25574689  2.48973393 -0.56526506\n",
            "  2.83303087  2.48757756 -0.21400165  1.31686157  0.72402616  0.66081994\n",
            "  1.14875667  0.90708308  1.88668963 -1.35929347  2.30360062  2.00123749\n",
            "  1.30768627  2.61666502  2.10952635  2.29607613  2.75062224  1.93701461]\n"
          ]
        }
      ]
    },
    {
      "cell_type": "code",
      "source": [
        "# spliting data to 2 part\n",
        "from sklearn.model_selection import train_test_split\n",
        "x_train, x_test, y_train, y_test = train_test_split(x, y, test_size=0.2)\n",
        "print(x_train.shape,y_train.shape)\n",
        "print(x_test.shape,y_test.shape)"
      ],
      "metadata": {
        "id": "Ac_sZcDn2xmQ",
        "outputId": "e41db400-0158-469c-9519-ce299573ee7f",
        "colab": {
          "base_uri": "https://localhost:8080/"
        }
      },
      "execution_count": 29,
      "outputs": [
        {
          "output_type": "stream",
          "name": "stdout",
          "text": [
            "(455, 30) (455,)\n",
            "(114, 30) (114,)\n"
          ]
        }
      ]
    },
    {
      "cell_type": "markdown",
      "source": [
        "### training model"
      ],
      "metadata": {
        "id": "d528oeqG3p1F"
      }
    },
    {
      "cell_type": "code",
      "source": [],
      "metadata": {
        "id": "JGmKq6jj3ode"
      },
      "execution_count": null,
      "outputs": []
    }
  ],
  "metadata": {
    "colab": {
      "provenance": []
    },
    "language_info": {
      "name": "python"
    },
    "kernelspec": {
      "name": "python3",
      "display_name": "Python 3"
    }
  },
  "nbformat": 4,
  "nbformat_minor": 0
}