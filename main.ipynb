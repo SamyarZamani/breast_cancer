{
  "cells": [
    {
      "cell_type": "markdown",
      "source": [
        "# **breast_cancer project for resume**"
      ],
      "metadata": {
        "id": "2ibAYAnkqFHJ"
      }
    },
    {
      "cell_type": "code",
      "source": [
        "from sklearn.datasets import load_breast_cancer\n",
        "bc = load_breast_cancer()"
      ],
      "metadata": {
        "id": "0Q2Eb2laqEyZ"
      },
      "execution_count": 1,
      "outputs": []
    }
  ],
  "metadata": {
    "colab": {
      "provenance": []
    },
    "language_info": {
      "name": "python"
    },
    "kernelspec": {
      "name": "python3",
      "display_name": "Python 3"
    }
  },
  "nbformat": 4,
  "nbformat_minor": 0
}